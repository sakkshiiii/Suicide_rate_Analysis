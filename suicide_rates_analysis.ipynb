{
 "cells": [
  {
   "cell_type": "markdown",
   "id": "d719c327",
   "metadata": {},
   "source": [
    "# Suicide Death Rates in the United States (1950 – 2018)\n",
    "### Project Notebook\n",
    "\n",
    "**Objective:** Explore long‑term trends and demographic patterns in U.S. suicide death rates, identify high‑risk groups, and generate insights for targeted prevention efforts.\n",
    "\n",
    "**Dataset:** `Death_rates_for_suicide_by_sex_race_Hispanic_origin_and_age_United.csv` — historical age‑adjusted and crude suicide death rates from the CDC, stratified by sex, race/Hispanic origin, and age group."
   ]
  },
  {
   "cell_type": "markdown",
   "id": "186e1580",
   "metadata": {},
   "source": [
    "## 1  Import Libraries"
   ]
  },
  {
   "cell_type": "code",
   "execution_count": null,
   "id": "f8c1e12f",
   "metadata": {},
   "outputs": [],
   "source": [
    "import pandas as pd\n",
    "import numpy as np\n",
    "import matplotlib.pyplot as plt\n",
    "import seaborn as sns\n",
    "import warnings\n",
    "warnings.filterwarnings('ignore')\n",
    "\n",
    "# Display plots inline\n",
    "%matplotlib inline\n",
    "\n",
    "sns.set(style='whitegrid', context='talk')\n"
   ]
  },
  {
   "cell_type": "markdown",
   "id": "959acfb3",
   "metadata": {},
   "source": [
    "## 2  Load & Inspect Data"
   ]
  },
  {
   "cell_type": "code",
   "execution_count": null,
   "id": "d3dbb3af",
   "metadata": {},
   "outputs": [],
   "source": [
    "# Adjust the path if necessary\n",
    "DATA_PATH = 'Death_rates_for_suicide_by_sex_race_Hispanic_origin_and_age_United.csv'\n",
    "\n",
    "df = pd.read_csv(DATA_PATH)\n",
    "print('Shape:', df.shape)\n",
    "display(df.head())\n",
    "df.info()"
   ]
  },
  {
   "cell_type": "markdown",
   "id": "2b4d450a",
   "metadata": {},
   "source": [
    "## 3  Data Cleaning & Feature Engineering"
   ]
  },
  {
   "cell_type": "code",
   "execution_count": null,
   "id": "656ec696",
   "metadata": {},
   "outputs": [],
   "source": [
    "# Drop rows with missing rate estimates\n",
    "df = df.dropna(subset=['ESTIMATE'])\n",
    "\n",
    "# Helper columns to simplify analysis\n",
    "def get_sex(label):\n",
    "    if str(label).startswith('Male'):\n",
    "        return 'Male'\n",
    "    elif str(label).startswith('Female'):\n",
    "        return 'Female'\n",
    "    else:\n",
    "        return 'All'\n",
    "\n",
    "def get_race(label):\n",
    "    races = [\n",
    "        'White',\n",
    "        'Black or African American',\n",
    "        'American Indian or Alaska Native',\n",
    "        'Asian or Pacific Islander',\n",
    "        'Hispanic or Latino'\n",
    "    ]\n",
    "    for r in races:\n",
    "        if r in label:\n",
    "            return r\n",
    "    return 'All races'\n",
    "\n",
    "df['Sex'] = df['STUB_LABEL'].apply(get_sex)\n",
    "df['Race'] = df['STUB_LABEL'].apply(get_race)\n",
    "\n",
    "print('After cleaning:', df.shape)\n",
    "display(df.head())"
   ]
  },
  {
   "cell_type": "markdown",
   "id": "c79fa439",
   "metadata": {},
   "source": [
    "## 4  Exploratory Data Analysis"
   ]
  },
  {
   "cell_type": "markdown",
   "id": "f3f52aff",
   "metadata": {},
   "source": [
    "### 4.1 Overall Age‑Adjusted Trend"
   ]
  },
  {
   "cell_type": "code",
   "execution_count": null,
   "id": "80d45e1f",
   "metadata": {},
   "outputs": [],
   "source": [
    "df_adj = df[df['UNIT_NUM'] == 1]  # 1 = age‑adjusted\n",
    "overall = df_adj[df_adj['STUB_LABEL'] == 'All persons']\n",
    "\n",
    "plt.figure(figsize=(10, 6))\n",
    "plt.plot(overall['YEAR'], overall['ESTIMATE'], marker='o')\n",
    "plt.title('Age‑Adjusted Suicide Rate – All Persons (1950‑2018)')\n",
    "plt.xlabel('Year')\n",
    "plt.ylabel('Deaths per 100,000')\n",
    "plt.tight_layout()\n",
    "plt.show()"
   ]
  },
  {
   "cell_type": "markdown",
   "id": "f97f3b00",
   "metadata": {},
   "source": [
    "### 4.2 Age‑Adjusted Trend by Sex"
   ]
  },
  {
   "cell_type": "code",
   "execution_count": null,
   "id": "9bc15e63",
   "metadata": {},
   "outputs": [],
   "source": [
    "sex_trend = df_adj[df_adj['Sex'].isin(['Male', 'Female'])]\n",
    "\n",
    "plt.figure(figsize=(10, 6))\n",
    "for sex in ['Male', 'Female']:\n",
    "    subset = sex_trend[sex_trend['Sex'] == sex]\n",
    "    plt.plot(subset['YEAR'], subset['ESTIMATE'], marker='o', label=sex)\n",
    "plt.title('Age‑Adjusted Suicide Rate by Sex (1950‑2018)')\n",
    "plt.xlabel('Year')\n",
    "plt.ylabel('Deaths per 100,000')\n",
    "plt.legend()\n",
    "plt.tight_layout()\n",
    "plt.show()"
   ]
  },
  {
   "cell_type": "markdown",
   "id": "9b163ca2",
   "metadata": {},
   "source": [
    "### 4.3 Average Age‑Adjusted Rate by Race (2009‑2018)"
   ]
  },
  {
   "cell_type": "code",
   "execution_count": null,
   "id": "f5249dcc",
   "metadata": {},
   "outputs": [],
   "source": [
    "recent_adj = df_adj[df_adj['YEAR'] >= 2009]\n",
    "race_avg = (recent_adj.groupby('Race')['ESTIMATE']\n",
    "                      .mean()\n",
    "                      .reset_index())\n",
    "race_avg = race_avg[race_avg['Race'] != 'All races']\n",
    "\n",
    "plt.figure(figsize=(10, 6))\n",
    "sns.barplot(x='Race', y='ESTIMATE', data=race_avg, order=race_avg.sort_values('ESTIMATE', ascending=False)['Race'])\n",
    "plt.title('Average Age‑Adjusted Suicide Rate by Race (2009‑2018)')\n",
    "plt.ylabel('Deaths per 100,000')\n",
    "plt.xticks(rotation=45, ha='right')\n",
    "plt.tight_layout()\n",
    "plt.show()"
   ]
  },
  {
   "cell_type": "markdown",
   "id": "12289bb0",
   "metadata": {},
   "source": [
    "### 4.4 Crude Rate by Age Group (Latest Year)"
   ]
  },
  {
   "cell_type": "code",
   "execution_count": null,
   "id": "d3b84ee3",
   "metadata": {},
   "outputs": [],
   "source": [
    "latest_year = df['YEAR'].max()\n",
    "df_crude = df[df['UNIT_NUM'] == 2]  # 2 = crude rate\n",
    "age_latest = df_crude[(df_crude['YEAR'] == latest_year) &\n",
    "                      (df_crude['STUB_NAME'] == 'Age') &\n",
    "                      (df_crude['AGE'] != 'All ages')]\n",
    "\n",
    "plt.figure(figsize=(10, 6))\n",
    "sns.barplot(x='AGE', y='ESTIMATE', data=age_latest)\n",
    "plt.title(f'Crude Suicide Rate by Age Group ({latest_year})')\n",
    "plt.ylabel('Deaths per 100,000')\n",
    "plt.xlabel('Age Group')\n",
    "plt.xticks(rotation=45, ha='right')\n",
    "plt.tight_layout()\n",
    "plt.show()"
   ]
  },
  {
   "cell_type": "markdown",
   "id": "d534f884",
   "metadata": {},
   "source": [
    "## 5  Summary & Insights\n",
    "* National suicide rates declined mid‑century but have risen steadily since the late 1990s.\n",
    "* Men consistently die by suicide at 3–4 times the rate of women.\n",
    "* White and American Indian/Alaska Native populations suffer the highest age‑adjusted rates in the past decade.\n",
    "* Risk escalates through middle age, peaking for adults aged 45–64 and remaining high for seniors.\n",
    "\n",
    "### Next Steps\n",
    "1. Build predictive models to forecast high‑risk counties or states.\n",
    "2. Integrate socioeconomic and mental‑health‑service variables for deeper causal analysis.\n",
    "3. Design targeted prevention campaigns for middle‑aged men in high‑rate communities."
   ]
  }
 ],
 "metadata": {},
 "nbformat": 4,
 "nbformat_minor": 5
}
